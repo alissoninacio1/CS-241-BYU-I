{
  "nbformat": 4,
  "nbformat_minor": 0,
  "metadata": {
    "colab": {
      "name": "Prove13-II.ipynb",
      "provenance": [],
      "collapsed_sections": [],
      "authorship_tag": "ABX9TyPi6fVlU8KQAP5bwqebm7Co",
      "include_colab_link": true
    },
    "kernelspec": {
      "name": "python3",
      "display_name": "Python 3"
    },
    "language_info": {
      "name": "python"
    }
  },
  "cells": [
    {
      "cell_type": "markdown",
      "metadata": {
        "id": "view-in-github",
        "colab_type": "text"
      },
      "source": [
        "<a href=\"https://colab.research.google.com/github/Alissoninacio1/CS-241-BYU-I/blob/main/Prove13_II.ipynb\" target=\"_parent\"><img src=\"https://colab.research.google.com/assets/colab-badge.svg\" alt=\"Open In Colab\"/></a>"
      ]
    },
    {
      "cell_type": "code",
      "metadata": {
        "id": "WJY3YHQ_GWdx"
      },
      "source": [
        "import pandas as pd #our data manipulation lib\n",
        "import seaborn as sns # used for graphing plotting\n",
        "import matplotlib.pyplot as plt # If we need any low level methods\n",
        "\n",
        "\n",
        "#I will copy some piece of code from my another colab, because it will be useful here\n",
        "\n",
        "uri = \"https://raw.githubusercontent.com/Alissoninacio1/Data-Analyzis-/main/basketball_player_allstar.csv\"      #uri do github onde estão os dados\n",
        "players = pd.read_csv(uri)\n",
        "\n",
        "players\n",
        "\n",
        "\n"
      ],
      "execution_count": null,
      "outputs": []
    },
    {
      "cell_type": "code",
      "metadata": {
        "colab": {
          "base_uri": "https://localhost:8080/"
        },
        "id": "SQLK5HHLGoLG",
        "outputId": "040d36dd-ba75-4367-f481-3a72a46e467b"
      },
      "source": [
        "\"\"\"\n",
        "PART 2 - A\n",
        "Some players score a lot of points because they attempt a lot of shots. \n",
        "Among players that have scored a lot of points, are there some that are much more efficient (points per attempt) than others?\n",
        "\"\"\"\n",
        "\"\"\"  FTA Percent of Team's Free Throws Attempted\"\"\"\n",
        "\n",
        "#This print is showing certain columns and making it easy to read\n",
        "print(players[[\"last_name\", \"first_name\",'ft_attempted', 'ft_made']].sort_values(\"ft_attempted\", ascending=False).head(10))"
      ],
      "execution_count": null,
      "outputs": [
        {
          "output_type": "stream",
          "text": [
            "        last_name first_name  ft_attempted  ft_made\n",
            "245   Chamberlain       Wilt          16.0      8.0\n",
            "246   Chamberlain       Wilt          15.0      8.0\n",
            "100        Baylor      Elgin          14.0     12.0\n",
            "249   Chamberlain       Wilt          14.0     11.0\n",
            "1251    Robertson      Oscar          14.0      8.0\n",
            "789        Jordan    Michael          13.0      9.0\n",
            "717       Johnson        Gus          13.0     11.0\n",
            "151      Blackman    Rolando          13.0     11.0\n",
            "110        Beatty      Zelmo          13.0     10.0\n",
            "1430     Thompson      David          13.0     11.0\n"
          ],
          "name": "stdout"
        }
      ]
    },
    {
      "cell_type": "code",
      "metadata": {
        "colab": {
          "base_uri": "https://localhost:8080/"
        },
        "id": "nhDg7-TPMGYn",
        "outputId": "5befccdc-e981-45e8-c4c9-015455536c9c"
      },
      "source": [
        "\n",
        "\n",
        "print(players[[\"last_name\", \"first_name\",'ft_made', 'ft_attempted']].sort_values(\"ft_made\", ascending=False).head(10))"
      ],
      "execution_count": null,
      "outputs": [
        {
          "output_type": "stream",
          "text": [
            "        last_name first_name  ft_made  ft_attempted\n",
            "100        Baylor      Elgin     12.0          14.0\n",
            "1248    Robertson      Oscar     12.0          13.0\n",
            "1165       Pettit        Bob     11.0          12.0\n",
            "249   Chamberlain       Wilt     11.0          14.0\n",
            "94         Baylor      Elgin     11.0          12.0\n",
            "151      Blackman    Rolando     11.0          13.0\n",
            "1430     Thompson      David     11.0          13.0\n",
            "717       Johnson        Gus     11.0          13.0\n",
            "1359        Silas      James     11.0          11.0\n",
            "425        Erving     Julius     10.0          12.0\n"
          ],
          "name": "stdout"
        }
      ]
    },
    {
      "cell_type": "code",
      "metadata": {
        "colab": {
          "base_uri": "https://localhost:8080/"
        },
        "id": "UxptfzC9P_E5",
        "outputId": "7373eb83-5c89-4255-ce5c-e0bd8f65659c"
      },
      "source": [
        "\"\"\" FGA  Percent of Team's Field Goals Attempted\"\"\"\n",
        "\n",
        "print(players[[\"last_name\", \"first_name\",'fg_attempted','fg_made']].sort_values(\"fg_attempted\", ascending=False).head(10))"
      ],
      "execution_count": null,
      "outputs": [
        {
          "output_type": "stream",
          "text": [
            "     last_name first_name  fg_attempted  fg_made\n",
            "87       Barry       Rick          27.0     16.0\n",
            "798     Jordan    Michael          27.0      9.0\n",
            "977    McGrady      Tracy          26.0     15.0\n",
            "513     Gervin     George          26.0     14.0\n",
            "999      Mikan     George          26.0      9.0\n",
            "196     Bryant       Kobe          25.0     12.0\n",
            "237   Chambers        Tom          25.0     13.0\n",
            "791     Jordan    Michael          25.0     10.0\n",
            "1219      Rice       Glen          24.0     10.0\n",
            "789     Jordan    Michael          24.0     10.0\n"
          ],
          "name": "stdout"
        }
      ]
    },
    {
      "cell_type": "code",
      "metadata": {
        "colab": {
          "base_uri": "https://localhost:8080/"
        },
        "id": "vkpi1gtDQX_B",
        "outputId": "144e7aa3-7c3d-491a-c62e-10ba8d497fd5"
      },
      "source": [
        "print(players[[\"last_name\", \"first_name\",'fg_made', 'fg_attempted']].sort_values(\"fg_made\", ascending=False).head(10))"
      ],
      "execution_count": null,
      "outputs": [
        {
          "output_type": "stream",
          "text": [
            "        last_name first_name  fg_made  fg_attempted\n",
            "488       Garnett      Kevin     17.0          24.0\n",
            "245   Chamberlain       Wilt     17.0          23.0\n",
            "794        Jordan    Michael     17.0          23.0\n",
            "87          Barry       Rick     16.0          27.0\n",
            "977       McGrady      Tracy     15.0          26.0\n",
            "513        Gervin     George     14.0          26.0\n",
            "1404   Stoudemire      Amare     14.0          22.0\n",
            "421        Erving     Julius     14.0          22.0\n",
            "683       Iverson      Allen     13.0          23.0\n",
            "1069        Nater       Swen     13.0          24.0\n"
          ],
          "name": "stdout"
        }
      ]
    },
    {
      "cell_type": "code",
      "metadata": {
        "colab": {
          "base_uri": "https://localhost:8080/"
        },
        "id": "9Cj5axOSS5eQ",
        "outputId": "2c96656e-151c-4e9b-d7b5-0dddf7ca05b5"
      },
      "source": [
        "\"\"\"\n",
        "PART2 2- B\n",
        "It seems like some players may excel in one statistical category, but produce very little in other areas. \n",
        "Are there any players that are exceptional across many categories?\n",
        "\"\"\"\n",
        "print(players[[\"last_name\", \"first_name\",'assists']].sort_values(\"assists\", ascending=False).head(10))\n"
      ],
      "execution_count": null,
      "outputs": [
        {
          "output_type": "stream",
          "text": [
            "     last_name first_name  assists\n",
            "739    Johnson      Magic     22.0\n",
            "735    Johnson      Magic     19.0\n",
            "1395  Stockton       John     17.0\n",
            "740    Johnson      Magic     16.0\n",
            "1420    Thomas      Isiah     15.0\n",
            "737    Johnson      Magic     15.0\n",
            "1391  Stockton       John     15.0\n",
            "738    Johnson      Magic     15.0\n",
            "1158    Payton       Gary     15.0\n",
            "1424    Thomas      Isiah     15.0\n"
          ],
          "name": "stdout"
        }
      ]
    },
    {
      "cell_type": "code",
      "metadata": {
        "colab": {
          "base_uri": "https://localhost:8080/"
        },
        "id": "fyssOe3Xfabv",
        "outputId": "e94f2535-dafd-4524-e462-8808e4684d36"
      },
      "source": [
        "print(players[[\"last_name\", \"first_name\",'assists','points', 'rebounds']].sort_values(\"rebounds\", ascending=False).head(10))"
      ],
      "execution_count": null,
      "outputs": [
        {
          "output_type": "stream",
          "text": [
            "        last_name first_name  assists  points  rebounds\n",
            "1166       Pettit        Bob      2.0    25.0      27.0\n",
            "1170       Pettit        Bob      1.0    28.0      26.0\n",
            "247   Chamberlain       Wilt      2.0    23.0      25.0\n",
            "1293      Russell       Bill      5.0    19.0      24.0\n",
            "1172       Pettit        Bob      7.0    20.0      24.0\n",
            "245   Chamberlain       Wilt      1.0    42.0      24.0\n",
            "1052      Mutombo    Dikembe      0.0     6.0      22.0\n",
            "66        Barkley    Charles      4.0    17.0      22.0\n",
            "243   Chamberlain       Wilt      4.0    14.0      22.0\n",
            "1069        Nater       Swen      0.0    29.0      22.0\n"
          ],
          "name": "stdout"
        }
      ]
    },
    {
      "cell_type": "code",
      "metadata": {
        "colab": {
          "base_uri": "https://localhost:8080/"
        },
        "id": "0C_TwcVHhPH4",
        "outputId": "b25dff56-080e-40ef-c9a8-e6c767ab41e6"
      },
      "source": [
        "players.columns"
      ],
      "execution_count": null,
      "outputs": [
        {
          "output_type": "execute_result",
          "data": {
            "text/plain": [
              "Index(['player_id', 'last_name', 'first_name', 'season_id', 'conference',\n",
              "       'league_id', 'games_played', 'minutes', 'points', 'o_rebounds',\n",
              "       'd_rebounds', 'rebounds', 'assists', 'steals', 'blocks', 'turnovers',\n",
              "       'personal_fouls', 'fg_attempted', 'fg_made', 'ft_attempted', 'ft_made',\n",
              "       'three_attempted', 'three_made'],\n",
              "      dtype='object')"
            ]
          },
          "metadata": {
            "tags": []
          },
          "execution_count": 51
        }
      ]
    },
    {
      "cell_type": "code",
      "metadata": {
        "colab": {
          "base_uri": "https://localhost:8080/"
        },
        "id": "frUEVhIHiY98",
        "outputId": "7a925b69-d17c-48eb-cadc-b9a22a16c486"
      },
      "source": [
        "print(players[[\"last_name\", \"first_name\",'assists','points', 'steals']].sort_values(\"steals\", ascending=False).head(10))"
      ],
      "execution_count": null,
      "outputs": [
        {
          "output_type": "stream",
          "text": [
            "     last_name first_name  assists  points  steals\n",
            "507     Gervin     George      3.0    23.0     6.0\n",
            "488    Garnett      Kevin      3.0    37.0     5.0\n",
            "688    Iverson      Allen      9.0    15.0     5.0\n",
            "824       Kidd      Jason      2.0    11.0     5.0\n",
            "822       Kidd      Jason     10.0    11.0     5.0\n",
            "742    Johnson      Magic      7.0    16.0     5.0\n",
            "1481      Wade     Dwyane     11.0    28.0     5.0\n",
            "1483      Wade     Dwyane      3.0    10.0     5.0\n",
            "194     Bryant       Kobe      4.0    20.0     5.0\n",
            "683    Iverson      Allen      7.0    35.0     5.0\n"
          ],
          "name": "stdout"
        }
      ]
    },
    {
      "cell_type": "code",
      "metadata": {
        "colab": {
          "base_uri": "https://localhost:8080/"
        },
        "id": "q0LCi8FzjCf7",
        "outputId": "0c488257-ca95-45b2-c19d-d2c912e227a9"
      },
      "source": [
        "print(players[[\"last_name\", \"first_name\",'assists','points', 'three_attempted']].sort_values(\"three_attempted\", ascending=False).head(10))"
      ],
      "execution_count": null,
      "outputs": [
        {
          "output_type": "stream",
          "text": [
            "    last_name first_name  assists  points  three_attempted\n",
            "32      Allen        Ray      1.0    17.0             11.0\n",
            "977   McGrady      Tracy      2.0    36.0             10.0\n",
            "26      Allen        Ray      5.0    15.0             10.0\n",
            "701     James     LeBron      2.0    29.0             10.0\n",
            "202    Bryant       Kobe      6.0    31.0              9.0\n",
            "31      Allen        Ray      1.0    28.0              9.0\n",
            "122   Billups   Chauncey      5.0    17.0              8.0\n",
            "193    Bryant       Kobe      4.0    27.0              8.0\n",
            "703     James     LeBron      6.0    28.0              8.0\n",
            "700     James     LeBron      9.0    27.0              7.0\n"
          ],
          "name": "stdout"
        }
      ]
    },
    {
      "cell_type": "code",
      "metadata": {
        "colab": {
          "base_uri": "https://localhost:8080/"
        },
        "id": "n4YwLou4jnNN",
        "outputId": "333393fb-4d07-4142-a088-27c7d04845ce"
      },
      "source": [
        "print(players[[\"last_name\", \"first_name\",'assists','points', 'three_made']].sort_values(\"three_made\", ascending=False).head(10))"
      ],
      "execution_count": null,
      "outputs": [
        {
          "output_type": "stream",
          "text": [
            "     last_name first_name  assists  points  three_made\n",
            "1204     Price       Mark      4.0    19.0         6.0\n",
            "122    Billups   Chauncey      5.0    17.0         5.0\n",
            "31       Allen        Ray      1.0    28.0         5.0\n",
            "32       Allen        Ray      1.0    17.0         5.0\n",
            "1152    Payton       Gary      6.0    18.0         4.0\n",
            "1218      Rice       Glen      0.0    16.0         4.0\n",
            "977    McGrady      Tracy      2.0    36.0         4.0\n",
            "703      James     LeBron      6.0    28.0         4.0\n",
            "701      James     LeBron      2.0    29.0         4.0\n",
            "1219      Rice       Glen      1.0    26.0         4.0\n"
          ],
          "name": "stdout"
        }
      ]
    },
    {
      "cell_type": "code",
      "metadata": {
        "id": "ZllsbLLcj42X"
      },
      "source": [
        "#Michael Jordan, Wilt Chamberlain and Magic johnson are names that are on the top of the most of sorted columns... \n",
        "#they show some frecuency inside the sorted data presented."
      ],
      "execution_count": null,
      "outputs": []
    },
    {
      "cell_type": "code",
      "metadata": {
        "id": "xvgZM3ZhtOX_"
      },
      "source": [
        ""
      ],
      "execution_count": null,
      "outputs": []
    }
  ]
}